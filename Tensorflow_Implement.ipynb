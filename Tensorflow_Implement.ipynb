{
 "cells": [
  {
   "cell_type": "markdown",
   "id": "50ebb246",
   "metadata": {},
   "source": [
    "# Implement linear regression, logistic regression, SVM with hinge loss function and support vector regression."
   ]
  },
  {
   "cell_type": "code",
   "execution_count": 146,
   "id": "6a3ed6b6",
   "metadata": {},
   "outputs": [],
   "source": [
    "import tensorflow as tf\n",
    "import matplotlib.pyplot as plt\n",
    "import matplotlib.image as mpimg\n",
    "import tensorflow.keras as keras\n",
    "import numpy as np\n",
    "import pandas as pd\n",
    "from sklearn import datasets\n",
    "from tensorflow.keras import layers\n",
    "import tensorflow.compat.v1 as tf\n",
    "tf.disable_v2_behavior() \n",
    "\n",
    "from sklearn.preprocessing import OneHotEncoder\n",
    "from tensorflow.keras import Sequential\n",
    "from tensorflow.keras.layers import Dense\n",
    "import tensorflow.keras.backend as K\n"
   ]
  },
  {
   "cell_type": "markdown",
   "id": "c04d275d",
   "metadata": {},
   "source": [
    "## 1. Linear Regression"
   ]
  },
  {
   "cell_type": "code",
   "execution_count": 149,
   "id": "0d674dcf",
   "metadata": {},
   "outputs": [],
   "source": [
    "# Generating random linear data\n",
    "# There will be 50 data points ranging from 0 to 50\n",
    "x = np.linspace(0, 50, 50)\n",
    "y = np.linspace(0, 50, 50)\n",
    "  \n",
    "# Adding noise to the random linear data\n",
    "x += np.random.uniform(-4, 4, 50)\n",
    "y += np.random.uniform(-4, 4, 50)\n",
    "  \n",
    "n = len(x) # Number of data points"
   ]
  },
  {
   "cell_type": "code",
   "execution_count": 150,
   "id": "3a612e89",
   "metadata": {},
   "outputs": [
    {
     "data": {
      "image/png": "[encoded data removed]",
      "text/plain": [
       "<Figure size 432x288 with 1 Axes>"
      ]
     },
     "metadata": {
      "needs_background": "light"
     },
     "output_type": "display_data"
    }
   ],
   "source": [
    "plt.scatter(x, y)\n",
    "plt.xlabel('x')\n",
    "plt.xlabel('y')\n",
    "plt.title(\"Training Data\")\n",
    "plt.show()"
   ]
  },
  {
   "cell_type": "code",
   "execution_count": 151,
   "id": "28571b9b",
   "metadata": {},
   "outputs": [],
   "source": [
    "X = tf.placeholder(\"float\")\n",
    "Y = tf.placeholder(\"float\")"
   ]
  },
  {
   "cell_type": "code",
   "execution_count": 152,
   "id": "24d35c68",
   "metadata": {},
   "outputs": [],
   "source": [
    "W = tf.Variable(np.random.randn(), name = \"W\")\n",
    "b = tf.Variable(np.random.randn(), name = \"b\")"
   ]
  },
  {
   "cell_type": "code",
   "execution_count": 153,
   "id": "ebb88c9b",
   "metadata": {},
   "outputs": [],
   "source": [
    "learning_rate = 0.01\n",
    "training_epochs = 1000"
   ]
  },
  {
   "cell_type": "code",
   "execution_count": 156,
   "id": "b457ed23",
   "metadata": {},
   "outputs": [],
   "source": [
    "# Hypothesis\n",
    "y_pred = tf.add(tf.multiply(X, W), b)\n",
    "  \n",
    "# Mean Squared Error Cost Function\n",
    "cost = tf.reduce_sum(tf.pow(y_pred-Y, 2)) / (2 * n)\n",
    "  \n",
    "# Gradient Descent Optimizer\n",
    "optimizer = tf.train.GradientDescentOptimizer(learning_rate).minimize(cost)\n",
    "  \n",
    "# Global Variables Initializer\n",
    "init = tf.global_variables_initializer()"
   ]
  },
  {
   "cell_type": "code",
   "execution_count": 155,
   "id": "b710bdad",
   "metadata": {},
   "outputs": [
    {
     "name": "stdout",
     "output_type": "stream",
     "text": [
      "Epoch 50 : cost = 7.0549927 W = 0.9647979 b = 0.1217615\n",
      "Epoch 100 : cost = 6.96518 W = 0.9609931 b = 0.31387055\n",
      "Epoch 150 : cost = 6.8953166 W = 0.9575833 b = 0.4860331\n",
      "Epoch 200 : cost = 6.8412366 W = 0.9545276 b = 0.6403189\n",
      "Epoch 250 : cost = 6.7996264 W = 0.95178914 b = 0.7785847\n",
      "Epoch 300 : cost = 6.7678385 W = 0.949335 b = 0.90249634\n",
      "Epoch 350 : cost = 6.743772 W = 0.94713557 b = 1.0135417\n",
      "Epoch 400 : cost = 6.72575 W = 0.94516474 b = 1.1130553\n",
      "Epoch 450 : cost = 6.712453 W = 0.9433983 b = 1.2022398\n",
      "Epoch 500 : cost = 6.702825 W = 0.94181544 b = 1.2821608\n",
      "Epoch 550 : cost = 6.6960325 W = 0.9403969 b = 1.3537848\n",
      "Epoch 600 : cost = 6.691424 W = 0.93912566 b = 1.417971\n",
      "Epoch 650 : cost = 6.688481 W = 0.9379863 b = 1.475494\n",
      "Epoch 700 : cost = 6.6867948 W = 0.9369653 b = 1.5270482\n",
      "Epoch 750 : cost = 6.6860485 W = 0.9360503 b = 1.5732478\n",
      "Epoch 800 : cost = 6.685995 W = 0.93523026 b = 1.6146497\n",
      "Epoch 850 : cost = 6.6864395 W = 0.9344954 b = 1.651754\n",
      "Epoch 900 : cost = 6.6872344 W = 0.9338369 b = 1.6850027\n",
      "Epoch 950 : cost = 6.6882653 W = 0.93324685 b = 1.7147923\n",
      "Epoch 1000 : cost = 6.689445 W = 0.93271804 b = 1.7414923\n"
     ]
    }
   ],
   "source": [
    "# Starting the Tensorflow Session\n",
    "with tf.Session() as sess:\n",
    "      \n",
    "    # Initializing the Variables\n",
    "    sess.run(init)\n",
    "      \n",
    "    # Iterating through all the epochs\n",
    "    for epoch in range(training_epochs):\n",
    "          \n",
    "        # Feeding each data point into the optimizer using Feed Dictionary\n",
    "        for (_x, _y) in zip(x, y):\n",
    "            sess.run(optimizer, feed_dict = {X : _x, Y : _y})\n",
    "          \n",
    "        # Displaying the result after every 50 epochs\n",
    "        if (epoch + 1) % 50 == 0:\n",
    "            # Calculating the cost a every epoch\n",
    "            c = sess.run(cost, feed_dict = {X : x, Y : y})\n",
    "            print(\"Epoch\", (epoch + 1), \": cost =\", c, \"W =\", sess.run(W), \"b =\", sess.run(b))\n",
    "      \n",
    "    # Storing necessary values to be used outside the Session\n",
    "    training_cost = sess.run(cost, feed_dict ={X: x, Y: y})\n",
    "    weight = sess.run(W)\n",
    "    bias = sess.run(b)"
   ]
  },
  {
   "cell_type": "code",
   "execution_count": 157,
   "id": "9760911a",
   "metadata": {},
   "outputs": [
    {
     "name": "stdout",
     "output_type": "stream",
     "text": [
      "Training cost = 6.689445 Weight = 0.93271804 bias = 1.7414923 \n",
      "\n"
     ]
    }
   ],
   "source": [
    "# Calculating the predictions\n",
    "predictions = weight * x + bias\n",
    "print(\"Training cost =\", training_cost, \"Weight =\", weight, \"bias =\", bias, '\\n')"
   ]
  },
  {
   "cell_type": "code",
   "execution_count": 158,
   "id": "5fbccdfa",
   "metadata": {},
   "outputs": [
    {
     "data": {
      "image/png": "[encoded data removed]",
      "text/plain": [
       "<Figure size 432x288 with 1 Axes>"
      ]
     },
     "metadata": {
      "needs_background": "light"
     },
     "output_type": "display_data"
    }
   ],
   "source": [
    "# Plotting the Results\n",
    "plt.plot(x, y, 'ro', label ='Original data')\n",
    "plt.plot(x, predictions, label ='Fitted line')\n",
    "plt.title('Linear Regression Result')\n",
    "plt.legend()\n",
    "plt.show()"
   ]
  },
  {
   "cell_type": "markdown",
   "id": "f68f44c1",
   "metadata": {},
   "source": [
    "## 2. Logistic Regression"
   ]
  },
  {
   "cell_type": "code",
   "execution_count": 159,
   "id": "45bb0184",
   "metadata": {},
   "outputs": [
    {
     "name": "stdout",
     "output_type": "stream",
     "text": [
      "Data Shape: (150, 6)\n",
      "   Id  SepalLengthCm  SepalWidthCm  PetalLengthCm  PetalWidthCm      Species\n",
      "0   1            5.1           3.5            1.4           0.2  Iris-setosa\n",
      "1   2            4.9           3.0            1.4           0.2  Iris-setosa\n",
      "2   3            4.7           3.2            1.3           0.2  Iris-setosa\n",
      "3   4            4.6           3.1            1.5           0.2  Iris-setosa\n",
      "4   5            5.0           3.6            1.4           0.2  Iris-setosa\n"
     ]
    }
   ],
   "source": [
    "data = pd.read_csv('archive/Iris.csv')\n",
    "print(\"Data Shape:\", data.shape)\n",
    "  \n",
    "print(data.head())\n",
    "data = data[:100]"
   ]
  },
  {
   "cell_type": "code",
   "execution_count": 160,
   "id": "16cd6601",
   "metadata": {},
   "outputs": [],
   "source": [
    "data.Species = data.Species.replace(to_replace=['Iris-setosa', 'Iris-versicolor'], value=[0, 1])\n"
   ]
  },
  {
   "cell_type": "code",
   "execution_count": 161,
   "id": "9eeb50a4",
   "metadata": {},
   "outputs": [
    {
     "data": {
      "text/plain": [
       "<matplotlib.legend.Legend at 0x7f7fe12f8490>"
      ]
     },
     "execution_count": 161,
     "metadata": {},
     "output_type": "execute_result"
    },
    {
     "data": {
      "image/png": "[encoded data removed]",
      "text/plain": [
       "<Figure size 432x288 with 1 Axes>"
      ]
     },
     "metadata": {
      "needs_background": "light"
     },
     "output_type": "display_data"
    }
   ],
   "source": [
    "plt.scatter(data[:50].SepalLengthCm, data[:50].SepalWidthCm, label='Iris-setosa')\n",
    "plt.scatter(data[51:].SepalLengthCm, data[51:].SepalWidthCm, label='Iris-versicolo')\n",
    "plt.xlabel('SepalLength')\n",
    "plt.ylabel('SepalWidth')\n",
    "plt.legend(loc='best')"
   ]
  },
  {
   "cell_type": "code",
   "execution_count": 163,
   "id": "1104ec5d",
   "metadata": {},
   "outputs": [
    {
     "data": {
      "text/plain": [
       "(100, 4)"
      ]
     },
     "execution_count": 163,
     "metadata": {},
     "output_type": "execute_result"
    }
   ],
   "source": [
    "X = data.drop(labels=['Id', 'Species'], axis=1).values\n",
    "y = data.Species.values\n",
    "X.shape"
   ]
  },
  {
   "cell_type": "code",
   "execution_count": 164,
   "id": "2de90939",
   "metadata": {},
   "outputs": [],
   "source": [
    "seed = 5\n",
    "np.random.seed(seed)\n",
    "tf.set_random_seed(seed)"
   ]
  },
  {
   "cell_type": "code",
   "execution_count": 165,
   "id": "9b7310a0",
   "metadata": {},
   "outputs": [],
   "source": [
    "train_index = np.random.choice(len(X), round(len(X) * 0.8), replace=False)\n",
    "# diff set\n",
    "test_index = np.array(list(set(range(len(X))) - set(train_index)))\n",
    "train_X = X[train_index]\n",
    "train_y = y[train_index]\n",
    "test_X = X[test_index]\n",
    "test_y = y[test_index]"
   ]
  },
  {
   "cell_type": "code",
   "execution_count": 166,
   "id": "e9706f32",
   "metadata": {},
   "outputs": [],
   "source": [
    "# Define the normalized function\n",
    "def min_max_normalized(data):\n",
    "    col_max = np.max(data, axis=0)\n",
    "    col_min = np.min(data, axis=0)\n",
    "    return np.divide(data - col_min, col_max - col_min)"
   ]
  },
  {
   "cell_type": "code",
   "execution_count": 167,
   "id": "a75e8521",
   "metadata": {},
   "outputs": [],
   "source": [
    "train_X = min_max_normalized(train_X)\n",
    "test_X = min_max_normalized(test_X)"
   ]
  },
  {
   "cell_type": "code",
   "execution_count": 168,
   "id": "dfad517f",
   "metadata": {},
   "outputs": [],
   "source": [
    "A = tf.Variable(tf.random_normal(shape=[4, 1]))\n",
    "b = tf.Variable(tf.random_normal(shape=[1, 1]))\n",
    "init = tf.global_variables_initializer()\n",
    "sess = tf.Session()\n",
    "sess.run(init)"
   ]
  },
  {
   "cell_type": "code",
   "execution_count": 169,
   "id": "4385948a",
   "metadata": {},
   "outputs": [],
   "source": [
    "# Define placeholders\n",
    "data = tf.placeholder(dtype=tf.float32, shape=[None, 4])\n",
    "target = tf.placeholder(dtype=tf.float32, shape=[None, 1])"
   ]
  },
  {
   "cell_type": "code",
   "execution_count": 170,
   "id": "d4e3f0be",
   "metadata": {},
   "outputs": [],
   "source": [
    "mod = tf.matmul(data, A) + b\n",
    "# Declare loss function\n",
    "# Use the sigmoid cross-entropy loss function,\n",
    "# first doing a sigmoid on the model result and then using the cross-entropy loss function\n",
    "loss = tf.reduce_mean(tf.nn.sigmoid_cross_entropy_with_logits(logits=mod, labels=target))\n",
    "# Define the learning rate， batch_size etc.\n",
    "learning_rate = 0.003\n",
    "batch_size = 30\n",
    "iter_num = 1500\n",
    "opt = tf.train.GradientDescentOptimizer(learning_rate)\n",
    "goal = opt.minimize(loss)\n",
    "prediction = tf.round(tf.sigmoid(mod))\n",
    "# Bool into float32 type\n",
    "correct = tf.cast(tf.equal(prediction, target), dtype=tf.float32)\n",
    "# Average\n",
    "accuracy = tf.reduce_mean(correct)\n",
    "# End of the definition of the model framework\n",
    "loss_trace = []\n",
    "train_acc = []\n",
    "test_acc = []"
   ]
  },
  {
   "cell_type": "code",
   "execution_count": 171,
   "id": "3e80c502",
   "metadata": {},
   "outputs": [
    {
     "name": "stdout",
     "output_type": "stream",
     "text": [
      "epoch:  300 loss: 0.594314 train_acc: 0.537500 test_acc: 0.350000\n",
      "epoch:  600 loss: 0.474795 train_acc: 0.575000 test_acc: 0.450000\n",
      "epoch:  900 loss: 0.408028 train_acc: 0.937500 test_acc: 1.000000\n",
      "epoch: 1200 loss: 0.315525 train_acc: 1.000000 test_acc: 1.000000\n",
      "epoch: 1500 loss: 0.262832 train_acc: 1.000000 test_acc: 1.000000\n"
     ]
    }
   ],
   "source": [
    "# training model\n",
    "for epoch in range(iter_num):\n",
    "    # Generate random batch index\n",
    "    batch_index = np.random.choice(len(train_X), size=batch_size)\n",
    "    batch_train_X = train_X[batch_index]\n",
    "    batch_train_y = np.matrix(train_y[batch_index]).T\n",
    "    sess.run(goal, feed_dict={data: batch_train_X, target: batch_train_y})\n",
    "    temp_loss = sess.run(loss, feed_dict={data: batch_train_X, target: batch_train_y})\n",
    "    # convert into a matrix, and the shape of the placeholder to correspond\n",
    "    temp_train_acc = sess.run(accuracy, feed_dict={data: train_X, target: np.matrix(train_y).T})\n",
    "    temp_test_acc = sess.run(accuracy, feed_dict={data: test_X, target: np.matrix(test_y).T})\n",
    "    # recode the result\n",
    "    loss_trace.append(temp_loss)\n",
    "    train_acc.append(temp_train_acc)\n",
    "    test_acc.append(temp_test_acc)\n",
    "    # output\n",
    "    if (epoch + 1) % 300 == 0:\n",
    "        print('epoch: {:4d} loss: {:5f} train_acc: {:5f} test_acc: {:5f}'.format(epoch + 1, temp_loss,\n",
    "                                                                          temp_train_acc, temp_test_acc))"
   ]
  },
  {
   "cell_type": "markdown",
   "id": "a736f813",
   "metadata": {},
   "source": [
    "## 3. SVM with hinge loss"
   ]
  },
  {
   "cell_type": "code",
   "execution_count": 172,
   "id": "7a1324b4",
   "metadata": {},
   "outputs": [],
   "source": [
    "X_sub=X[:,:2]\n",
    "y=np.where(y==1, y, -1)"
   ]
  },
  {
   "cell_type": "code",
   "execution_count": 173,
   "id": "9613b0e3",
   "metadata": {},
   "outputs": [
    {
     "name": "stdout",
     "output_type": "stream",
     "text": [
      "100/100 [==============================] - 0s 3ms/sample - loss: 0.1764 - acc: 0.4500\n"
     ]
    },
    {
     "data": {
      "text/plain": [
       "[0.17641823291778563, 0.45]"
      ]
     },
     "execution_count": 173,
     "metadata": {},
     "output_type": "execute_result"
    }
   ],
   "source": [
    "model = Sequential()\n",
    "model.add(Dense(1, activation='linear', kernel_regularizer=tf.keras.regularizers.l2()))\n",
    "def hinge_loss(y_true, y_pred):    \n",
    "    return tf.maximum(0., 1- y_true*y_pred)\n",
    "model.compile(loss=hinge_loss,\n",
    "              optimizer='adam',\n",
    "              metrics=['accuracy'])\n",
    "model.fit(X_sub, y, epochs=5000, verbose=False)\n",
    "model.evaluate(X_sub, y)\n"
   ]
  },
  {
   "cell_type": "markdown",
   "id": "7a6c4a64",
   "metadata": {},
   "source": [
    "## 4. SVR with epsilon insensitive loss"
   ]
  },
  {
   "cell_type": "code",
   "execution_count": 174,
   "id": "4a6420d5",
   "metadata": {},
   "outputs": [],
   "source": [
    "def L1_loss(layer, y_true, y_pred):\n",
    "    weights = layer.weights[0]\n",
    "    weights_tf = tf.convert_to_tensor(weights)\n",
    "    y_true_0 = tf.cast(y_true, tf.float32)\n",
    "    dif = abs(y_pred-y_true_0)\n",
    "    ess_loss = K.sum(K.maximum(0.0,dif-0.1),axis=-1)## how to choose an optimal epsilon\n",
    "    regularization_loss = 0.5*(tf.reduce_sum(tf.multiply(weights_tf,weights_tf)))\n",
    "    return regularization_loss + 0.2*ess_loss ## how to choose an optimal penalization parameter"
   ]
  },
  {
   "cell_type": "code",
   "execution_count": 175,
   "id": "dc6da79a",
   "metadata": {},
   "outputs": [
    {
     "name": "stdout",
     "output_type": "stream",
     "text": [
      "100/100 [==============================] - 0s 3ms/sample - loss: 0.1737 - acc: 0.0000e+00\n"
     ]
    },
    {
     "data": {
      "text/plain": [
       "[0.17371975064277648, 0.0]"
      ]
     },
     "execution_count": 175,
     "metadata": {},
     "output_type": "execute_result"
    }
   ],
   "source": [
    "model = Sequential()\n",
    "model.add(Dense(1, activation='linear', name='svrl'))\n",
    "def hinge_loss(y_true, y_pred):    \n",
    "    return tf.maximum(0., 1- y_true*y_pred)\n",
    "model.compile(loss=lambda y_true,y_pred:L1_loss(model.get_layer('svrl'),y_true,y_pred),\n",
    "              optimizer='adam',\n",
    "              metrics=['accuracy'])\n",
    "model.fit(X_sub, y, epochs=5000, verbose=False)\n",
    "model.evaluate(X_sub, y)\n"
   ]
  },
  {
   "cell_type": "markdown",
   "id": "9f5b9a0c",
   "metadata": {},
   "source": [
    "## 5. XOR "
   ]
  },
  {
   "cell_type": "code",
   "execution_count": 176,
   "id": "7857e383",
   "metadata": {},
   "outputs": [
    {
     "name": "stdout",
     "output_type": "stream",
     "text": [
      "\n",
      "Epoch: 0\n",
      "\n",
      "Error: 0.26442587\n",
      "     [0.62025726]\n",
      "     [0.6200183]\n",
      "     [0.6200183]\n",
      "     [0.6198486]\n",
      "\n",
      "Epoch: 10000\n",
      "\n",
      "Error: 0.07002342\n",
      "     [0.2077933]\n",
      "     [0.7534745]\n",
      "     [0.7534745]\n",
      "     [0.33965564]\n",
      "\n",
      "Epoch: 20000\n",
      "\n",
      "Error: 0.0061955405\n",
      "     [0.07956657]\n",
      "     [0.9271754]\n",
      "     [0.9271754]\n",
      "     [0.08856907]\n",
      "\n",
      "Epoch: 30000\n",
      "\n",
      "Error: 0.0028774943\n",
      "     [0.05516872]\n",
      "     [0.9504955]\n",
      "     [0.9504955]\n",
      "     [0.05970758]\n",
      "\n",
      "Epoch: 40000\n",
      "\n",
      "Error: 0.0018379441\n",
      "     [0.04440123]\n",
      "     [0.9604852]\n",
      "     [0.9604852]\n",
      "     [0.04751286]\n",
      "\n",
      "Epoch: 50000\n",
      "\n",
      "Error: 0.0013404149\n",
      "     [0.03807229]\n",
      "     [0.96628344]\n",
      "     [0.96628344]\n",
      "     [0.04047897]\n",
      "\n",
      "Epoch: 60000\n",
      "\n",
      "Error: 0.001051139\n",
      "     [0.03380311]\n",
      "     [0.970159]\n",
      "     [0.970159]\n",
      "     [0.03579015]\n",
      "\n",
      "Epoch: 70000\n",
      "\n",
      "Error: 0.00086272974\n",
      "     [0.03068176]\n",
      "     [0.9729731]\n",
      "     [0.9729731]\n",
      "     [0.03238276]\n",
      "\n",
      "Epoch: 80000\n",
      "\n",
      "Error: 0.00073076086\n",
      "     [0.02828008]\n",
      "     [0.9751314]\n",
      "     [0.9751314]\n",
      "     [0.02977222]\n",
      "\n",
      "Epoch: 90000\n",
      "\n",
      "Error: 0.0006333374\n",
      "     [0.02635822]\n",
      "     [0.976854]\n",
      "     [0.976854]\n",
      "     [0.02769697]\n",
      "\n",
      "Epoch: 100000\n",
      "\n",
      "Error: 0.0005582967\n",
      "     [0.02478385]\n",
      "     [0.97827876]\n",
      "     [0.97827876]\n",
      "     [0.02598697]\n",
      "Complete\n"
     ]
    }
   ],
   "source": [
    "# input X vector\n",
    "X = [[0, 0], [0, 1], [1, 0], [1, 1]]\n",
    "# output Y vector\n",
    "Y = [[0], [1], [1], [0]]\n",
    "# Placeholders for input and output\n",
    "x = tf.placeholder(tf.float32, shape=[4,2])\n",
    "y = tf.placeholder(tf.float32, shape=[4,1])\n",
    "# W matrix\n",
    "W1 = tf.Variable([[1.0, 0.0], [1.0, 0.0]], shape=[2,2])\n",
    "W2 = tf.Variable([[0.0], [1.0]], shape=[2,1])\n",
    "\n",
    "# Biases\n",
    "B1 = tf.Variable([0.0, 0.0], shape=[2])\n",
    "B2 = tf.Variable([0.0], shape=1)\n",
    "# Hidden layer and outout layer\n",
    "output =tf.sigmoid(tf.matmul(tf.sigmoid(tf.matmul(x, W1) + B1), W2) + B2)\n",
    " \n",
    "# error estimation\n",
    "e = tf.reduce_mean(tf.squared_difference(y, output))\n",
    "train = tf.train.GradientDescentOptimizer(0.1).minimize(e)\n",
    "\n",
    "init = tf.global_variables_initializer()\n",
    "sess = tf.Session()\n",
    "sess.run(init)\n",
    "\n",
    "for i in range (100001):\n",
    "    error = sess.run(train, feed_dict={x: X, y: Y})\n",
    "    if i % 10000 == 0:\n",
    "        print('\\nEpoch: ' + str(i))\n",
    "        print('\\nError: ' + str(sess.run(e, feed_dict={x: X, y: Y})))\n",
    "        for el in sess.run(output, feed_dict={x: X, y: Y}):\n",
    "            print('    ',el)\n",
    "sess.close()\n",
    " \n",
    "print (\"Complete\")"
   ]
  },
  {
   "cell_type": "markdown",
   "id": "4d304178",
   "metadata": {},
   "source": [
    "## 6. NN"
   ]
  },
  {
   "cell_type": "code",
   "execution_count": 177,
   "id": "11dcf5b6",
   "metadata": {},
   "outputs": [],
   "source": [
    "from scipy.stats import chi2\n"
   ]
  },
  {
   "cell_type": "code",
   "execution_count": 178,
   "id": "1bb58ee9",
   "metadata": {},
   "outputs": [
    {
     "name": "stdout",
     "output_type": "stream",
     "text": [
      "Test Accuracy: 0.740\n",
      "Predicted: 0.886\n"
     ]
    }
   ],
   "source": [
    "mu, sigma = 0, 1\n",
    "X= np.random.normal(mu, sigma, size=(1000, 10))\n",
    "c= chi2.ppf(0.5, df=10)\n",
    "criteia = lambda x: sum([x[i]**2 for i in range(0, 10)])\n",
    "Y = np.ones(shape=1000)\n",
    "for i in range(0, 1000):\n",
    "    Y[i] = 1 if criteia(X[i]) > c else 0\n",
    "    \n",
    "train_index = np.random.choice(len(X), round(len(X) * 0.8), replace=False)\n",
    "# diff set\n",
    "test_index = np.array(list(set(range(len(X))) - set(train_index)))\n",
    "train_X = X[train_index]\n",
    "train_y = Y[train_index]\n",
    "test_X = X[test_index]\n",
    "test_y = Y[test_index]\n",
    "model = Sequential()\n",
    "model.add(Dense(units=10,activation='relu',input_shape=(10,)))\n",
    "model.add(Dense(units=8,activation='linear'))\n",
    "model.add(Dense(units=12,activation='linear'))\n",
    "model.add(Dense(units=1,activation='sigmoid'))\n",
    "model.compile(loss='binary_crossentropy', optimizer='adam',metrics=['accuracy'])\n",
    "model.fit(train_X,train_y,epochs=150, batch_size=32, verbose=0)\n",
    "loss, acc = model.evaluate(test_X,test_y, verbose=0)\n",
    "print('Test Accuracy: %.3f'% acc)\n",
    "#predict\n",
    "row=np.random.normal(mu, sigma, size=(1, 10))\n",
    "yhat= model.predict([row])\n",
    "print('Predicted: %.3f' % yhat)"
   ]
  },
  {
   "cell_type": "markdown",
   "id": "5d018711",
   "metadata": {},
   "source": [
    "In this case, the test accuracy is 0.8. A prediction is made for a single row of random data, which predicted a probability of 0.9 that the data belongs to class 1. "
   ]
  }
 ],
 "metadata": {
  "kernelspec": {
   "display_name": "Python 3 (ipykernel)",
   "language": "python",
   "name": "python3"
  },
  "language_info": {
   "codemirror_mode": {
    "name": "ipython",
    "version": 3
   },
   "file_extension": ".py",
   "mimetype": "text/x-python",
   "name": "python",
   "nbconvert_exporter": "python",
   "pygments_lexer": "ipython3",
   "version": "3.7.11"
  }
 },
 "nbformat": 4,
 "nbformat_minor": 5
}
